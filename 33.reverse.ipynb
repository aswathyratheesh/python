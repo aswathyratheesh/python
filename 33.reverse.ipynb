{
 "cells": [
  {
   "cell_type": "code",
   "execution_count": 6,
   "metadata": {},
   "outputs": [
    {
     "name": "stdout",
     "output_type": "stream",
     "text": [
      "Enter a number:987456\n",
      "Reverse of the number is:\n",
      "654789"
     ]
    }
   ],
   "source": [
    "l=int(input(\"Enter a number:\"))\n",
    "print(\"Reverse of the number is:\")\n",
    "r=0\n",
    "while(l!=0):\n",
    "    digit=l%10\n",
    "    r=(r*10)+digit\n",
    "    l=l//10\n",
    "    print(digit,end=\"\")"
   ]
  },
  {
   "cell_type": "code",
   "execution_count": null,
   "metadata": {
    "collapsed": true
   },
   "outputs": [],
   "source": []
  }
 ],
 "metadata": {
  "kernelspec": {
   "display_name": "Python 3",
   "language": "python",
   "name": "python3"
  },
  "language_info": {
   "codemirror_mode": {
    "name": "ipython",
    "version": 3
   },
   "file_extension": ".py",
   "mimetype": "text/x-python",
   "name": "python",
   "nbconvert_exporter": "python",
   "pygments_lexer": "ipython3",
   "version": "3.6.3"
  }
 },
 "nbformat": 4,
 "nbformat_minor": 2
}
