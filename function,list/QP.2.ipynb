{
 "cells": [
  {
   "cell_type": "code",
   "execution_count": 20,
   "metadata": {},
   "outputs": [
    {
     "name": "stdout",
     "output_type": "stream",
     "text": [
      "1.square\n",
      " 2.Rectangle\n",
      " 3.Triangle\n",
      " 4.Exit\n",
      "enter your choice:1\n",
      "Enter side:6\n",
      "area of square: 36\n",
      "1.square\n",
      " 2.Rectangle\n",
      " 3.Triangle\n",
      " 4.Exit\n",
      "enter your choice:2\n",
      "Enter length:6\n",
      "Enter breadth:4\n",
      "Area of Rectangle: 24\n",
      "1.square\n",
      " 2.Rectangle\n",
      " 3.Triangle\n",
      " 4.Exit\n",
      "enter your choice:6\n",
      "Exiting..\n"
     ]
    }
   ],
   "source": [
    "sqr=lambda a:a*a\n",
    "rect=lambda l,b:l*b\n",
    "tri=lambda b,h:(b*h)/2\n",
    "while(1):\n",
    "    print(\"1.square\\n 2.Rectangle\\n 3.Triangle\\n 4.Exit\")\n",
    "    ch=int(input(\"enter your choice:\"))\n",
    "    if(ch==1):\n",
    "        a=int(input(\"Enter side:\"))\n",
    "        print(\"area of square:\",sqr(a))\n",
    "    elif(ch==2):\n",
    "        l=int(input(\"Enter length:\"))\n",
    "        b=int(input(\"Enter breadth:\"))\n",
    "        print(\"Area of Rectangle:\",rect(l,b))\n",
    "    elif(ch==3):\n",
    "           b=int(input(\"Enter breadth\"))\n",
    "           h=int(input(\"Enter height\"))\n",
    "           print(\"Area of Triangle:\",tri(b,h))\n",
    "    else:\n",
    "           print(\"Exiting..\")\n",
    "           break\n",
    "       "
   ]
  },
  {
   "cell_type": "code",
   "execution_count": null,
   "metadata": {
    "collapsed": true
   },
   "outputs": [],
   "source": []
  }
 ],
 "metadata": {
  "kernelspec": {
   "display_name": "Python 3",
   "language": "python",
   "name": "python3"
  },
  "language_info": {
   "codemirror_mode": {
    "name": "ipython",
    "version": 3
   },
   "file_extension": ".py",
   "mimetype": "text/x-python",
   "name": "python",
   "nbconvert_exporter": "python",
   "pygments_lexer": "ipython3",
   "version": "3.6.3"
  }
 },
 "nbformat": 4,
 "nbformat_minor": 2
}
