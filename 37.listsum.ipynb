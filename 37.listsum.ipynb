{
 "cells": [
  {
   "cell_type": "code",
   "execution_count": 10,
   "metadata": {},
   "outputs": [
    {
     "name": "stdout",
     "output_type": "stream",
     "text": [
      "enter the list:123456789\n",
      "List of elements sum: ['1', '2', '3', '4', '5', '6', '7', '8', '9'] = 45\n"
     ]
    }
   ],
   "source": [
    "G=list(input(\"enter the list:\"))\n",
    "G1=len(G)\n",
    "a=0\n",
    "i=0\n",
    "for i in range(G1):\n",
    "    b=int(G[i])\n",
    "    a=a+b\n",
    "print(\"List of elements sum:\",G, \"=\",a)"
   ]
  },
  {
   "cell_type": "code",
   "execution_count": null,
   "metadata": {
    "collapsed": true
   },
   "outputs": [],
   "source": []
  }
 ],
 "metadata": {
  "kernelspec": {
   "display_name": "Python 3",
   "language": "python",
   "name": "python3"
  },
  "language_info": {
   "codemirror_mode": {
    "name": "ipython",
    "version": 3
   },
   "file_extension": ".py",
   "mimetype": "text/x-python",
   "name": "python",
   "nbconvert_exporter": "python",
   "pygments_lexer": "ipython3",
   "version": "3.6.3"
  }
 },
 "nbformat": 4,
 "nbformat_minor": 2
}
