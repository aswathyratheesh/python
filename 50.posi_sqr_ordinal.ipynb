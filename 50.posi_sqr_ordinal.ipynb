{
 "cells": [
  {
   "cell_type": "code",
   "execution_count": 10,
   "metadata": {},
   "outputs": [
    {
     "name": "stdout",
     "output_type": "stream",
     "text": [
      "enter numbers with comma separated:-8,-9,10,-11\n",
      "positive integers of the list: [10]\n",
      "square of nos in list [64, 81, 100, 121]\n",
      "Enter a word:people\n",
      "vowels in people are ['e', 'o', 'e']\n",
      "ordinal value ['p', 'e', 'o', 'p', 'l', 'e'] are [112, 101, 111, 112, 108, 101]\n"
     ]
    }
   ],
   "source": [
    "m=input(\"enter numbers with comma separated:\").split(',')\n",
    "nw=map(int,m)\n",
    "nw1=[x for x in nw if x>0]\n",
    "print(\"positive integers of the list:\",nw1)\n",
    "\n",
    "#square of n numbers\n",
    "nw2=map(int,m)\n",
    "sl=[x**2 for x in nw2]\n",
    "print(\"square of nos in list\",sl)\n",
    "\n",
    "#vowels list\n",
    "v=input(\"Enter a word:\")\n",
    "v1=[x for x in v]\n",
    "vowel=['a','e','i','o','u','A','E','I','O','U']\n",
    "v2=[x for x in v1 if x in vowel]\n",
    "print(\"vowels in\",v,\"are\",v2)\n",
    "\n",
    "#ordinal values\n",
    "ordinal=[ord(x)for x in v1]\n",
    "print(\"ordinal value\",v1,\"are\",ordinal)"
   ]
  },
  {
   "cell_type": "code",
   "execution_count": null,
   "metadata": {
    "collapsed": true
   },
   "outputs": [],
   "source": []
  }
 ],
 "metadata": {
  "kernelspec": {
   "display_name": "Python 3",
   "language": "python",
   "name": "python3"
  },
  "language_info": {
   "codemirror_mode": {
    "name": "ipython",
    "version": 3
   },
   "file_extension": ".py",
   "mimetype": "text/x-python",
   "name": "python",
   "nbconvert_exporter": "python",
   "pygments_lexer": "ipython3",
   "version": "3.6.3"
  }
 },
 "nbformat": 4,
 "nbformat_minor": 2
}
