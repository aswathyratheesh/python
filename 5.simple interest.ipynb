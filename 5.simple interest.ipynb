{
 "cells": [
  {
   "cell_type": "code",
   "execution_count": 1,
   "metadata": {},
   "outputs": [
    {
     "name": "stdout",
     "output_type": "stream",
     "text": [
      "enter the principal amount:500\n",
      "enter the rate of interest:100\n",
      "enter the no of years:2\n",
      "simple interest is, 1000.0\n"
     ]
    }
   ],
   "source": [
    "p=int(input(\"enter the principal amount:\"))\n",
    "r=int(input(\"enter the rate of interest:\"))\n",
    "n=int(input(\"enter the no of years:\"))\n",
    "i=(p*n*r)/100\n",
    "print(\"simple interest is,\",i)"
   ]
  },
  {
   "cell_type": "code",
   "execution_count": null,
   "metadata": {
    "collapsed": true
   },
   "outputs": [],
   "source": []
  }
 ],
 "metadata": {
  "kernelspec": {
   "display_name": "Python 3",
   "language": "python",
   "name": "python3"
  },
  "language_info": {
   "codemirror_mode": {
    "name": "ipython",
    "version": 3
   },
   "file_extension": ".py",
   "mimetype": "text/x-python",
   "name": "python",
   "nbconvert_exporter": "python",
   "pygments_lexer": "ipython3",
   "version": "3.6.3"
  }
 },
 "nbformat": 4,
 "nbformat_minor": 2
}
