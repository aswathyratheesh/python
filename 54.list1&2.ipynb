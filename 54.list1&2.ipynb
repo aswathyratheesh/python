{
 "cells": [
  {
   "cell_type": "code",
   "execution_count": 1,
   "metadata": {},
   "outputs": [
    {
     "name": "stdout",
     "output_type": "stream",
     "text": [
      "First list: {'Blue', 'Red', 'Yellow', 'Pink', 'Green'}\n",
      "second list: {'Black', 'Red', 'Green'}\n",
      "The new list is: {'Pink', 'Yellow', 'Blue'}\n"
     ]
    }
   ],
   "source": [
    "u1=set([\"Red\",\"Green\",\"Blue\",\"Yellow\",\"Pink\"])\n",
    "u2=set([\"Red\",\"Green\",\"Black\"])\n",
    "print(\"First list:\",u1)\n",
    "print(\"second list:\",u2)\n",
    "u3=u1.difference(u2)\n",
    "print(\"The new list is:\",u3)"
   ]
  },
  {
   "cell_type": "code",
   "execution_count": null,
   "metadata": {
    "collapsed": true
   },
   "outputs": [],
   "source": []
  }
 ],
 "metadata": {
  "kernelspec": {
   "display_name": "Python 3",
   "language": "python",
   "name": "python3"
  },
  "language_info": {
   "codemirror_mode": {
    "name": "ipython",
    "version": 3
   },
   "file_extension": ".py",
   "mimetype": "text/x-python",
   "name": "python",
   "nbconvert_exporter": "python",
   "pygments_lexer": "ipython3",
   "version": "3.6.3"
  }
 },
 "nbformat": 4,
 "nbformat_minor": 2
}
