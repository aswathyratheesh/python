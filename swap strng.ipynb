{
 "cells": [
  {
   "cell_type": "code",
   "execution_count": 4,
   "metadata": {},
   "outputs": [
    {
     "name": "stdout",
     "output_type": "stream",
     "text": [
      "enter 1st stringhello\n",
      "enter 2nd stringworld\n",
      "charecters changed to: wollo herld\n"
     ]
    }
   ],
   "source": [
    "s1=input(\"enter 1st string\")\n",
    "s2=input(\"enter 2nd string\")\n",
    "m=s2[0:2]+s1[2:]+\" \"+s1[0:2]+s2[2:]\n",
    "print(\"charecters changed to:\",m)"
   ]
  },
  {
   "cell_type": "code",
   "execution_count": null,
   "metadata": {
    "collapsed": true
   },
   "outputs": [],
   "source": []
  }
 ],
 "metadata": {
  "kernelspec": {
   "display_name": "Python 3",
   "language": "python",
   "name": "python3"
  },
  "language_info": {
   "codemirror_mode": {
    "name": "ipython",
    "version": 3
   },
   "file_extension": ".py",
   "mimetype": "text/x-python",
   "name": "python",
   "nbconvert_exporter": "python",
   "pygments_lexer": "ipython3",
   "version": "3.6.3"
  }
 },
 "nbformat": 4,
 "nbformat_minor": 2
}
