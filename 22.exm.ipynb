{
 "cells": [
  {
   "cell_type": "code",
   "execution_count": 9,
   "metadata": {},
   "outputs": [
    {
     "name": "stdout",
     "output_type": "stream",
     "text": [
      "no.of classes attented:9\n",
      "no.of classes held:12\n",
      "The percentage is: 75.0\n",
      "Not allowed to sit for exam\n"
     ]
    }
   ],
   "source": [
    "n=int(input(\"no.of classes attented:\"))\n",
    "m=int(input(\"no.of classes held:\"))\n",
    "p=n/m*100\n",
    "print(\"The percentage is:\",p)\n",
    "if(p>75):\n",
    "    print(\"Allowed to sit for exam\")\n",
    "else:\n",
    "    print(\"Not allowed to sit for exam\")"
   ]
  },
  {
   "cell_type": "code",
   "execution_count": null,
   "metadata": {
    "collapsed": true
   },
   "outputs": [],
   "source": []
  }
 ],
 "metadata": {
  "kernelspec": {
   "display_name": "Python 3",
   "language": "python",
   "name": "python3"
  },
  "language_info": {
   "codemirror_mode": {
    "name": "ipython",
    "version": 3
   },
   "file_extension": ".py",
   "mimetype": "text/x-python",
   "name": "python",
   "nbconvert_exporter": "python",
   "pygments_lexer": "ipython3",
   "version": "3.6.3"
  }
 },
 "nbformat": 4,
 "nbformat_minor": 2
}
