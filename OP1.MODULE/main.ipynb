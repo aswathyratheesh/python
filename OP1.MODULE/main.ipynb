{
 "cells": [
  {
   "cell_type": "code",
   "execution_count": null,
   "metadata": {},
   "outputs": [
    {
     "name": "stdout",
     "output_type": "stream",
     "text": [
      "1.rectangle\n",
      "2.circle\n",
      "3.Exit\n",
      "Enter your choice:1\n",
      "Enter length2\n",
      "Enter breadth4\n",
      "area of rectangle: 8\n",
      "perimeter of rectangle: 12\n",
      "1.rectangle\n",
      "2.circle\n",
      "3.Exit\n"
     ]
    }
   ],
   "source": [
    "import rect\n",
    "import cir\n",
    "while(1):\n",
    "    print(\"1.rectangle\\n2.circle\\n3.Exit\")\n",
    "    ch=int(input(\"Enter your choice:\"))\n",
    "    if ch==1:\n",
    "        l=int(input(\"Enter length\"))\n",
    "        b=int(input(\"Enter breadth\"))\n",
    "        rect.rectarea(l,b)\n",
    "        rect.rectperi(l,b)\n",
    "    elif ch==2:\n",
    "        r=int(input(\"Enter radius\"))\n",
    "    else:\n",
    "        print(\"Exiting...\")\n",
    "        break"
   ]
  },
  {
   "cell_type": "code",
   "execution_count": null,
   "metadata": {
    "collapsed": true
   },
   "outputs": [],
   "source": []
  }
 ],
 "metadata": {
  "kernelspec": {
   "display_name": "Python 3",
   "language": "python",
   "name": "python3"
  },
  "language_info": {
   "codemirror_mode": {
    "name": "ipython",
    "version": 3
   },
   "file_extension": ".py",
   "mimetype": "text/x-python",
   "name": "python",
   "nbconvert_exporter": "python",
   "pygments_lexer": "ipython3",
   "version": "3.6.3"
  }
 },
 "nbformat": 4,
 "nbformat_minor": 2
}
