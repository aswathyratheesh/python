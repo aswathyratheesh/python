{
 "cells": [
  {
   "cell_type": "code",
   "execution_count": 4,
   "metadata": {},
   "outputs": [
    {
     "name": "stdout",
     "output_type": "stream",
     "text": [
      "enter a string:ssacdeert\n",
      "s is repeated 2 time(s)\n",
      "a is repeated 1 time(s)\n",
      "c is repeated 1 time(s)\n",
      "d is repeated 1 time(s)\n",
      "e is repeated 2 time(s)\n",
      "r is repeated 1 time(s)\n",
      "t is repeated 1 time(s)\n"
     ]
    }
   ],
   "source": [
    "s=input(\"enter a string:\")\n",
    "frq={}\n",
    "for i in s:\n",
    "    if i in frq:\n",
    "        frq[i]=frq[i]+1\n",
    "    else:\n",
    "        frq[i]=1\n",
    "for keys,value in frq.items():\n",
    "    print(keys,\"is repeated\",value,\"time(s)\")    \n",
    "        "
   ]
  },
  {
   "cell_type": "code",
   "execution_count": null,
   "metadata": {
    "collapsed": true
   },
   "outputs": [],
   "source": []
  }
 ],
 "metadata": {
  "kernelspec": {
   "display_name": "Python 3",
   "language": "python",
   "name": "python3"
  },
  "language_info": {
   "codemirror_mode": {
    "name": "ipython",
    "version": 3
   },
   "file_extension": ".py",
   "mimetype": "text/x-python",
   "name": "python",
   "nbconvert_exporter": "python",
   "pygments_lexer": "ipython3",
   "version": "3.6.3"
  }
 },
 "nbformat": 4,
 "nbformat_minor": 2
}
