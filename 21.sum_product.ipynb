{
 "cells": [
  {
   "cell_type": "code",
   "execution_count": 13,
   "metadata": {},
   "outputs": [
    {
     "name": "stdout",
     "output_type": "stream",
     "text": [
      "enter the 1st integer:20\n",
      "enter the 2nd integer:5\n",
      "100 is the product\n"
     ]
    }
   ],
   "source": [
    "a=int(input(\"enter the 1st integer:\"))\n",
    "b=int(input(\"enter the 2nd integer:\"))\n",
    "product=a*b\n",
    "sum=a+b\n",
    "if(product>1000):\n",
    "    print(\"%d is  their sum\"%sum)\n",
    "else:\n",
    "    print(\"%d is the product\"%product)"
   ]
  },
  {
   "cell_type": "code",
   "execution_count": null,
   "metadata": {
    "collapsed": true
   },
   "outputs": [],
   "source": []
  },
  {
   "cell_type": "code",
   "execution_count": null,
   "metadata": {
    "collapsed": true
   },
   "outputs": [],
   "source": []
  }
 ],
 "metadata": {
  "kernelspec": {
   "display_name": "Python 3",
   "language": "python",
   "name": "python3"
  },
  "language_info": {
   "codemirror_mode": {
    "name": "ipython",
    "version": 3
   },
   "file_extension": ".py",
   "mimetype": "text/x-python",
   "name": "python",
   "nbconvert_exporter": "python",
   "pygments_lexer": "ipython3",
   "version": "3.6.3"
  }
 },
 "nbformat": 4,
 "nbformat_minor": 2
}
