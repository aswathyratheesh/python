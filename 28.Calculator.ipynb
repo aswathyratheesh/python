{
 "cells": [
  {
   "cell_type": "code",
   "execution_count": 8,
   "metadata": {},
   "outputs": [
    {
     "name": "stdout",
     "output_type": "stream",
     "text": [
      "select Operations\n",
      "1.Addition\n",
      "2.Substration\n",
      "3.Multiplication\n",
      "4.Division\n",
      "enter the 1st no:5\n",
      "enter 2nd no:2\n",
      "Enter a choice:4\n",
      "Division= 2.5\n"
     ]
    }
   ],
   "source": [
    "print(\"select Operations\")\n",
    "print(\"1.Addition\")\n",
    "print(\"2.Substration\")\n",
    "print(\"3.Multiplication\")\n",
    "print(\"4.Division\")\n",
    "x=int(input(\"enter the 1st no:\"))\n",
    "y=int(input(\"enter 2nd no:\"))\n",
    "choice=int(input(\"Enter a choice:\"))\n",
    "if(choice==1):\n",
    "    print(\"Addition=\",x+y)\n",
    "elif(choice==2):\n",
    "    print(\"Substraion=\",x-y)\n",
    "elif(choice==3):\n",
    "    print(\"multiplication\",x*y)\n",
    "elif(choice==4):\n",
    "    print(\"Division=\",x/y)\n",
    "else:\n",
    "    print(\"invalid\")"
   ]
  },
  {
   "cell_type": "code",
   "execution_count": null,
   "metadata": {
    "collapsed": true
   },
   "outputs": [],
   "source": []
  }
 ],
 "metadata": {
  "kernelspec": {
   "display_name": "Python 3",
   "language": "python",
   "name": "python3"
  },
  "language_info": {
   "codemirror_mode": {
    "name": "ipython",
    "version": 3
   },
   "file_extension": ".py",
   "mimetype": "text/x-python",
   "name": "python",
   "nbconvert_exporter": "python",
   "pygments_lexer": "ipython3",
   "version": "3.6.3"
  }
 },
 "nbformat": 4,
 "nbformat_minor": 2
}
